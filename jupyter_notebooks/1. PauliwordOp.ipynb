{
 "cells": [
  {
   "cell_type": "code",
   "execution_count": 1,
   "id": "54c74ff5",
   "metadata": {},
   "outputs": [],
   "source": [
    "from quantumtools.symplectic_form import PauliwordOp"
   ]
  },
  {
   "cell_type": "markdown",
   "id": "4f4563f8",
   "metadata": {},
   "source": [
    "# Symplectic Form"
   ]
  },
  {
   "cell_type": "code",
   "execution_count": 2,
   "id": "a2bd83cd",
   "metadata": {},
   "outputs": [
    {
     "name": "stdout",
     "output_type": "stream",
     "text": [
      "(2+1j) ZXY\n"
     ]
    },
    {
     "data": {
      "text/plain": [
       "array([[0, 1, 1, 1, 0, 1]])"
      ]
     },
     "execution_count": 2,
     "metadata": {},
     "output_type": "execute_result"
    }
   ],
   "source": [
    "P1 = PauliwordOp({'ZXY': 2+1j})\n",
    "print(P1)\n",
    "\n",
    "P1.symp_matrix"
   ]
  },
  {
   "cell_type": "code",
   "execution_count": 3,
   "id": "29583a75",
   "metadata": {},
   "outputs": [
    {
     "data": {
      "text/plain": [
       "array([[0, 0, 0, 1, 1, 1]])"
      ]
     },
     "execution_count": 3,
     "metadata": {},
     "output_type": "execute_result"
    }
   ],
   "source": [
    "P2 = PauliwordOp({'ZZZ':1})\n",
    "\n",
    "P2.symp_matrix"
   ]
  },
  {
   "cell_type": "code",
   "execution_count": null,
   "id": "4f0bba08",
   "metadata": {},
   "outputs": [],
   "source": []
  },
  {
   "cell_type": "code",
   "execution_count": 4,
   "id": "ba006812",
   "metadata": {},
   "outputs": [
    {
     "name": "stdout",
     "output_type": "stream",
     "text": [
      "(2+1j) IYX\n"
     ]
    }
   ],
   "source": [
    "P3 = P1 * P2\n",
    "print(P3)"
   ]
  },
  {
   "cell_type": "code",
   "execution_count": null,
   "id": "2f6168d0",
   "metadata": {},
   "outputs": [],
   "source": []
  },
  {
   "cell_type": "code",
   "execution_count": 5,
   "id": "1aa9ff5b",
   "metadata": {},
   "outputs": [
    {
     "data": {
      "text/plain": [
       "True"
      ]
     },
     "execution_count": 5,
     "metadata": {},
     "output_type": "execute_result"
    }
   ],
   "source": [
    "P1.commutes(P2)"
   ]
  },
  {
   "cell_type": "code",
   "execution_count": 6,
   "id": "8158db6d",
   "metadata": {},
   "outputs": [
    {
     "data": {
      "text/plain": [
       "False"
      ]
     },
     "execution_count": 6,
     "metadata": {},
     "output_type": "execute_result"
    }
   ],
   "source": [
    "P1.qwc_single_Pword(P2)"
   ]
  },
  {
   "cell_type": "code",
   "execution_count": 7,
   "id": "9e7d4071",
   "metadata": {},
   "outputs": [
    {
     "name": "stdout",
     "output_type": "stream",
     "text": [
      "(2+1j) ZXY +\n",
      "(1+0j) ZZZ\n"
     ]
    },
    {
     "data": {
      "text/plain": [
       "array([[0, 1, 1, 1, 0, 1],\n",
       "       [0, 0, 0, 1, 1, 1]])"
      ]
     },
     "execution_count": 7,
     "metadata": {},
     "output_type": "execute_result"
    }
   ],
   "source": [
    "P_linear_comb = P1+P2\n",
    "print(P_linear_comb)\n",
    "P_linear_comb.symp_matrix"
   ]
  },
  {
   "cell_type": "code",
   "execution_count": 8,
   "id": "8af131c6",
   "metadata": {},
   "outputs": [
    {
     "name": "stdout",
     "output_type": "stream",
     "text": [
      "(2+1j) ZXY +\n",
      "(-1+0j) ZZZ\n"
     ]
    }
   ],
   "source": [
    "print(P1-P2)"
   ]
  },
  {
   "cell_type": "code",
   "execution_count": null,
   "id": "df32727e",
   "metadata": {},
   "outputs": [],
   "source": []
  }
 ],
 "metadata": {
  "kernelspec": {
   "display_name": "Python 3 (ipykernel)",
   "language": "python",
   "name": "python3"
  },
  "language_info": {
   "codemirror_mode": {
    "name": "ipython",
    "version": 3
   },
   "file_extension": ".py",
   "mimetype": "text/x-python",
   "name": "python",
   "nbconvert_exporter": "python",
   "pygments_lexer": "ipython3",
   "version": "3.9.7"
  }
 },
 "nbformat": 4,
 "nbformat_minor": 5
}
